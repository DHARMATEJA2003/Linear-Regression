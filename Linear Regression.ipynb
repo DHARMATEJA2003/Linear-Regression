{
 "cells": [
  {
   "cell_type": "markdown",
   "id": "0f9dc02b",
   "metadata": {},
   "source": [
    "# Linear Regression\n"
   ]
  },
  {
   "cell_type": "code",
   "execution_count": 1,
   "id": "1b844447",
   "metadata": {},
   "outputs": [],
   "source": [
    "import math\n",
    "import matplotlib.pyplot as plt\n",
    "import pandas as pd"
   ]
  },
  {
   "cell_type": "markdown",
   "id": "48cba8f4",
   "metadata": {},
   "source": [
    "Importing the dataset"
   ]
  },
  {
   "cell_type": "code",
   "execution_count": 2,
   "id": "652a859d",
   "metadata": {
    "scrolled": false
   },
   "outputs": [
    {
     "data": {
      "text/html": [
       "<div>\n",
       "<style scoped>\n",
       "    .dataframe tbody tr th:only-of-type {\n",
       "        vertical-align: middle;\n",
       "    }\n",
       "\n",
       "    .dataframe tbody tr th {\n",
       "        vertical-align: top;\n",
       "    }\n",
       "\n",
       "    .dataframe thead th {\n",
       "        text-align: right;\n",
       "    }\n",
       "</style>\n",
       "<table border=\"1\" class=\"dataframe\">\n",
       "  <thead>\n",
       "    <tr style=\"text-align: right;\">\n",
       "      <th></th>\n",
       "      <th>Id</th>\n",
       "      <th>SepalLengthCm</th>\n",
       "      <th>SepalWidthCm</th>\n",
       "      <th>PetalLengthCm</th>\n",
       "      <th>PetalWidthCm</th>\n",
       "      <th>Species</th>\n",
       "    </tr>\n",
       "  </thead>\n",
       "  <tbody>\n",
       "    <tr>\n",
       "      <th>0</th>\n",
       "      <td>1</td>\n",
       "      <td>5.1</td>\n",
       "      <td>3.5</td>\n",
       "      <td>1.4</td>\n",
       "      <td>0.2</td>\n",
       "      <td>Iris-setosa</td>\n",
       "    </tr>\n",
       "    <tr>\n",
       "      <th>1</th>\n",
       "      <td>2</td>\n",
       "      <td>4.9</td>\n",
       "      <td>3.0</td>\n",
       "      <td>1.4</td>\n",
       "      <td>0.2</td>\n",
       "      <td>Iris-setosa</td>\n",
       "    </tr>\n",
       "    <tr>\n",
       "      <th>2</th>\n",
       "      <td>3</td>\n",
       "      <td>4.7</td>\n",
       "      <td>3.2</td>\n",
       "      <td>1.3</td>\n",
       "      <td>0.2</td>\n",
       "      <td>Iris-setosa</td>\n",
       "    </tr>\n",
       "    <tr>\n",
       "      <th>3</th>\n",
       "      <td>4</td>\n",
       "      <td>4.6</td>\n",
       "      <td>3.1</td>\n",
       "      <td>1.5</td>\n",
       "      <td>0.2</td>\n",
       "      <td>Iris-setosa</td>\n",
       "    </tr>\n",
       "    <tr>\n",
       "      <th>4</th>\n",
       "      <td>5</td>\n",
       "      <td>5.0</td>\n",
       "      <td>3.6</td>\n",
       "      <td>1.4</td>\n",
       "      <td>0.2</td>\n",
       "      <td>Iris-setosa</td>\n",
       "    </tr>\n",
       "    <tr>\n",
       "      <th>...</th>\n",
       "      <td>...</td>\n",
       "      <td>...</td>\n",
       "      <td>...</td>\n",
       "      <td>...</td>\n",
       "      <td>...</td>\n",
       "      <td>...</td>\n",
       "    </tr>\n",
       "    <tr>\n",
       "      <th>145</th>\n",
       "      <td>146</td>\n",
       "      <td>6.7</td>\n",
       "      <td>3.0</td>\n",
       "      <td>5.2</td>\n",
       "      <td>2.3</td>\n",
       "      <td>Iris-virginica</td>\n",
       "    </tr>\n",
       "    <tr>\n",
       "      <th>146</th>\n",
       "      <td>147</td>\n",
       "      <td>6.3</td>\n",
       "      <td>2.5</td>\n",
       "      <td>5.0</td>\n",
       "      <td>1.9</td>\n",
       "      <td>Iris-virginica</td>\n",
       "    </tr>\n",
       "    <tr>\n",
       "      <th>147</th>\n",
       "      <td>148</td>\n",
       "      <td>6.5</td>\n",
       "      <td>3.0</td>\n",
       "      <td>5.2</td>\n",
       "      <td>2.0</td>\n",
       "      <td>Iris-virginica</td>\n",
       "    </tr>\n",
       "    <tr>\n",
       "      <th>148</th>\n",
       "      <td>149</td>\n",
       "      <td>6.2</td>\n",
       "      <td>3.4</td>\n",
       "      <td>5.4</td>\n",
       "      <td>2.3</td>\n",
       "      <td>Iris-virginica</td>\n",
       "    </tr>\n",
       "    <tr>\n",
       "      <th>149</th>\n",
       "      <td>150</td>\n",
       "      <td>5.9</td>\n",
       "      <td>3.0</td>\n",
       "      <td>5.1</td>\n",
       "      <td>1.8</td>\n",
       "      <td>Iris-virginica</td>\n",
       "    </tr>\n",
       "  </tbody>\n",
       "</table>\n",
       "<p>150 rows × 6 columns</p>\n",
       "</div>"
      ],
      "text/plain": [
       "      Id  SepalLengthCm  SepalWidthCm  PetalLengthCm  PetalWidthCm  \\\n",
       "0      1            5.1           3.5            1.4           0.2   \n",
       "1      2            4.9           3.0            1.4           0.2   \n",
       "2      3            4.7           3.2            1.3           0.2   \n",
       "3      4            4.6           3.1            1.5           0.2   \n",
       "4      5            5.0           3.6            1.4           0.2   \n",
       "..   ...            ...           ...            ...           ...   \n",
       "145  146            6.7           3.0            5.2           2.3   \n",
       "146  147            6.3           2.5            5.0           1.9   \n",
       "147  148            6.5           3.0            5.2           2.0   \n",
       "148  149            6.2           3.4            5.4           2.3   \n",
       "149  150            5.9           3.0            5.1           1.8   \n",
       "\n",
       "            Species  \n",
       "0       Iris-setosa  \n",
       "1       Iris-setosa  \n",
       "2       Iris-setosa  \n",
       "3       Iris-setosa  \n",
       "4       Iris-setosa  \n",
       "..              ...  \n",
       "145  Iris-virginica  \n",
       "146  Iris-virginica  \n",
       "147  Iris-virginica  \n",
       "148  Iris-virginica  \n",
       "149  Iris-virginica  \n",
       "\n",
       "[150 rows x 6 columns]"
      ]
     },
     "execution_count": 2,
     "metadata": {},
     "output_type": "execute_result"
    }
   ],
   "source": [
    "data=pd.read_csv(\"iris.csv\")\n",
    "data"
   ]
  },
  {
   "cell_type": "code",
   "execution_count": 3,
   "id": "6d78357a",
   "metadata": {},
   "outputs": [],
   "source": [
    "X=data[\"PetalLengthCm\"]\n",
    "Y=data[\"PetalWidthCm\"]"
   ]
  },
  {
   "cell_type": "code",
   "execution_count": 4,
   "id": "d92b251e",
   "metadata": {
    "scrolled": true
   },
   "outputs": [
    {
     "data": {
      "text/plain": [
       "(0      1.4\n",
       " 1      1.4\n",
       " 2      1.3\n",
       " 3      1.5\n",
       " 4      1.4\n",
       "       ... \n",
       " 145    5.2\n",
       " 146    5.0\n",
       " 147    5.2\n",
       " 148    5.4\n",
       " 149    5.1\n",
       " Name: PetalLengthCm, Length: 150, dtype: float64,\n",
       " 0      0.2\n",
       " 1      0.2\n",
       " 2      0.2\n",
       " 3      0.2\n",
       " 4      0.2\n",
       "       ... \n",
       " 145    2.3\n",
       " 146    1.9\n",
       " 147    2.0\n",
       " 148    2.3\n",
       " 149    1.8\n",
       " Name: PetalWidthCm, Length: 150, dtype: float64)"
      ]
     },
     "execution_count": 4,
     "metadata": {},
     "output_type": "execute_result"
    }
   ],
   "source": [
    "X,Y"
   ]
  },
  {
   "cell_type": "markdown",
   "id": "b28472e5",
   "metadata": {},
   "source": [
    "Training the model"
   ]
  },
  {
   "cell_type": "code",
   "execution_count": 5,
   "id": "edde51ea",
   "metadata": {},
   "outputs": [],
   "source": [
    "from sklearn.model_selection import train_test_split\n",
    "Xtrain,Xtest,Ytrain,Ytest=train_test_split(X,Y,test_size=0.2,random_state=20)\n",
    "#X_train, X_test, y_train, y_test = train_test_split(...     X, y, test_size=0.33, random_state=42)"
   ]
  },
  {
   "cell_type": "code",
   "execution_count": 6,
   "id": "97795783",
   "metadata": {
    "scrolled": true
   },
   "outputs": [
    {
     "data": {
      "text/plain": [
       "(95     4.2\n",
       " 88     4.1\n",
       " 0      1.4\n",
       " 46     1.6\n",
       " 11     1.6\n",
       "       ... \n",
       " 22     1.0\n",
       " 75     4.4\n",
       " 137    5.5\n",
       " 15     1.5\n",
       " 99     4.1\n",
       " Name: PetalLengthCm, Length: 120, dtype: float64,\n",
       " 95     1.2\n",
       " 88     1.3\n",
       " 0      0.2\n",
       " 46     0.2\n",
       " 11     0.2\n",
       "       ... \n",
       " 22     0.2\n",
       " 75     1.4\n",
       " 137    1.8\n",
       " 15     0.4\n",
       " 99     1.3\n",
       " Name: PetalWidthCm, Length: 120, dtype: float64)"
      ]
     },
     "execution_count": 6,
     "metadata": {},
     "output_type": "execute_result"
    }
   ],
   "source": [
    "Xtrain,Ytrain"
   ]
  },
  {
   "cell_type": "code",
   "execution_count": 7,
   "id": "c7c5668c",
   "metadata": {
    "scrolled": true
   },
   "outputs": [
    {
     "data": {
      "text/plain": [
       "<matplotlib.collections.PathCollection at 0x2114c60cd60>"
      ]
     },
     "execution_count": 7,
     "metadata": {},
     "output_type": "execute_result"
    },
    {
     "data": {
      "image/png": "[encoded data removed]",
      "text/plain": [
       "<Figure size 640x480 with 1 Axes>"
      ]
     },
     "metadata": {},
     "output_type": "display_data"
    }
   ],
   "source": [
    "plt.scatter(Xtest,Ytest)"
   ]
  },
  {
   "cell_type": "code",
   "execution_count": 8,
   "id": "c1262935",
   "metadata": {},
   "outputs": [],
   "source": [
    "from sklearn.linear_model import LinearRegression\n"
   ]
  },
  {
   "cell_type": "code",
   "execution_count": 9,
   "id": "94c2fdd2",
   "metadata": {},
   "outputs": [],
   "source": [
    "lr=LinearRegression()\n",
    "import numpy as np"
   ]
  },
  {
   "cell_type": "code",
   "execution_count": 10,
   "id": "11525c50",
   "metadata": {},
   "outputs": [],
   "source": [
    "Xtrain=np.array(Xtrain).reshape(-1,1)\n",
    "Ytrain=np.array(Ytrain).reshape(-1,1)"
   ]
  },
  {
   "cell_type": "code",
   "execution_count": 11,
   "id": "a3e27ee1",
   "metadata": {},
   "outputs": [
    {
     "data": {
      "text/plain": [
       "LinearRegression()"
      ]
     },
     "execution_count": 11,
     "metadata": {},
     "output_type": "execute_result"
    }
   ],
   "source": [
    "lr.fit(Xtrain,Ytrain)"
   ]
  },
  {
   "cell_type": "code",
   "execution_count": 12,
   "id": "7ba810d5",
   "metadata": {},
   "outputs": [],
   "source": [
    "c=lr.intercept_"
   ]
  },
  {
   "cell_type": "code",
   "execution_count": 13,
   "id": "a09fd8a5",
   "metadata": {},
   "outputs": [],
   "source": [
    "m=lr.coef_"
   ]
  },
  {
   "cell_type": "code",
   "execution_count": 14,
   "id": "0c693e52",
   "metadata": {},
   "outputs": [
    {
     "data": {
      "text/plain": [
       "array([[1.40370253],\n",
       "       [1.361431  ],\n",
       "       [0.22009961],\n",
       "       [0.30464267],\n",
       "       [0.30464267],\n",
       "       [1.53051713],\n",
       "       [1.53051713],\n",
       "       [0.22009961],\n",
       "       [1.53051713],\n",
       "       [2.20686166],\n",
       "       [1.53051713],\n",
       "       [1.99550399],\n",
       "       [0.26237114],\n",
       "       [1.4882456 ],\n",
       "       [1.6150602 ],\n",
       "       [0.17782807],\n",
       "       [0.34691421],\n",
       "       [0.22009961],\n",
       "       [1.7418748 ],\n",
       "       [0.43145727],\n",
       "       [1.99550399],\n",
       "       [1.91096093],\n",
       "       [0.26237114],\n",
       "       [2.16459013],\n",
       "       [1.31915947],\n",
       "       [1.15007333],\n",
       "       [1.53051713],\n",
       "       [0.17782807],\n",
       "       [0.26237114],\n",
       "       [1.2346164 ],\n",
       "       [1.44597406],\n",
       "       [1.31915947],\n",
       "       [1.27688793],\n",
       "       [1.6150602 ],\n",
       "       [1.57278866],\n",
       "       [1.40370253],\n",
       "       [0.34691421],\n",
       "       [1.53051713],\n",
       "       [1.4882456 ],\n",
       "       [0.26237114],\n",
       "       [0.17782807],\n",
       "       [1.53051713],\n",
       "       [1.31915947],\n",
       "       [1.57278866],\n",
       "       [0.26237114],\n",
       "       [0.26237114],\n",
       "       [1.86868939],\n",
       "       [0.17782807],\n",
       "       [0.30464267],\n",
       "       [1.1078018 ],\n",
       "       [1.65733173],\n",
       "       [1.78414633],\n",
       "       [1.69960326],\n",
       "       [1.99550399],\n",
       "       [1.99550399],\n",
       "       [2.12231859],\n",
       "       [1.27688793],\n",
       "       [1.95323246],\n",
       "       [2.20686166],\n",
       "       [2.20686166],\n",
       "       [0.22009961],\n",
       "       [1.95323246],\n",
       "       [0.26237114],\n",
       "       [0.22009961],\n",
       "       [0.13555654],\n",
       "       [1.82641786],\n",
       "       [1.69960326],\n",
       "       [1.65733173],\n",
       "       [1.91096093],\n",
       "       [1.69960326],\n",
       "       [1.40370253],\n",
       "       [0.17782807],\n",
       "       [1.69960326],\n",
       "       [0.22009961],\n",
       "       [1.02325873],\n",
       "       [2.46049086],\n",
       "       [0.43145727],\n",
       "       [1.53051713],\n",
       "       [1.6150602 ],\n",
       "       [1.65733173],\n",
       "       [0.22009961],\n",
       "       [0.30464267],\n",
       "       [2.16459013],\n",
       "       [2.03777553],\n",
       "       [1.27688793],\n",
       "       [1.4882456 ],\n",
       "       [1.1078018 ],\n",
       "       [2.03777553],\n",
       "       [1.99550399],\n",
       "       [0.30464267],\n",
       "       [2.03777553],\n",
       "       [0.22009961],\n",
       "       [1.7418748 ],\n",
       "       [0.26237114],\n",
       "       [0.34691421],\n",
       "       [1.7418748 ],\n",
       "       [1.99550399],\n",
       "       [2.29140472],\n",
       "       [0.26237114],\n",
       "       [0.26237114],\n",
       "       [1.78414633],\n",
       "       [1.78414633],\n",
       "       [1.40370253],\n",
       "       [2.33367626],\n",
       "       [0.30464267],\n",
       "       [1.78414633],\n",
       "       [0.22009961],\n",
       "       [0.26237114],\n",
       "       [1.78414633],\n",
       "       [2.41821932],\n",
       "       [0.17782807],\n",
       "       [0.30464267],\n",
       "       [0.17782807],\n",
       "       [2.54503392],\n",
       "       [1.31915947],\n",
       "       [0.05101348],\n",
       "       [1.4882456 ],\n",
       "       [1.95323246],\n",
       "       [0.26237114],\n",
       "       [1.361431  ]])"
      ]
     },
     "execution_count": 14,
     "metadata": {},
     "output_type": "execute_result"
    }
   ],
   "source": [
    "Ypred=m*Xtrain+c\n",
    "Ypred"
   ]
  },
  {
   "cell_type": "code",
   "execution_count": 15,
   "id": "4f4cd667",
   "metadata": {},
   "outputs": [
    {
     "data": {
      "text/plain": [
       "<matplotlib.collections.PathCollection at 0x2114e88ba90>"
      ]
     },
     "execution_count": 15,
     "metadata": {},
     "output_type": "execute_result"
    },
    {
     "data": {
      "image/png": "[encoded data removed]",
      "text/plain": [
       "<Figure size 640x480 with 1 Axes>"
      ]
     },
     "metadata": {},
     "output_type": "display_data"
    }
   ],
   "source": [
    "plt.scatter(Xtrain,Ypred)"
   ]
  },
  {
   "cell_type": "code",
   "execution_count": 16,
   "id": "e3633bb3",
   "metadata": {},
   "outputs": [],
   "source": [
    "Ypred1=lr.predict(Xtrain)"
   ]
  },
  {
   "cell_type": "code",
   "execution_count": 17,
   "id": "3b837826",
   "metadata": {},
   "outputs": [
    {
     "data": {
      "text/plain": [
       "<matplotlib.legend.Legend at 0x2114c7651c0>"
      ]
     },
     "execution_count": 17,
     "metadata": {},
     "output_type": "execute_result"
    },
    {
     "data": {
      "image/png": "[encoded data removed]",
      "text/plain": [
       "<Figure size 640x480 with 1 Axes>"
      ]
     },
     "metadata": {},
     "output_type": "display_data"
    }
   ],
   "source": [
    "plt.scatter(Xtrain,Ypred1)\n",
    "plt.xlabel(\"Petal Width\")\n",
    "plt.ylabel(\"Petal Length\")\n",
    "plt.legend(\"PetalLength VS PetalWidth\")"
   ]
  },
  {
   "cell_type": "code",
   "execution_count": 18,
   "id": "08cb8a48",
   "metadata": {},
   "outputs": [],
   "source": [
    "Xtest=np.array(Xtest).reshape(-1,1)\n",
    "Ytest=np.array(Ytest).reshape(-1,1)"
   ]
  },
  {
   "cell_type": "code",
   "execution_count": 19,
   "id": "a7d4077b",
   "metadata": {},
   "outputs": [
    {
     "data": {
      "text/plain": [
       "0.8784241175390084"
      ]
     },
     "execution_count": 19,
     "metadata": {},
     "output_type": "execute_result"
    }
   ],
   "source": [
    "lr.score(Xtest,Ytest)"
   ]
  }
 ],
 "metadata": {
  "kernelspec": {
   "display_name": "Python 3 (ipykernel)",
   "language": "python",
   "name": "python3"
  },
  "language_info": {
   "codemirror_mode": {
    "name": "ipython",
    "version": 3
   },
   "file_extension": ".py",
   "mimetype": "text/x-python",
   "name": "python",
   "nbconvert_exporter": "python",
   "pygments_lexer": "ipython3",
   "version": "3.9.13"
  }
 },
 "nbformat": 4,
 "nbformat_minor": 5
}
